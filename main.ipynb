{
 "cells": [
  {
   "cell_type": "code",
   "execution_count": 6,
   "id": "6dd3efbd",
   "metadata": {},
   "outputs": [],
   "source": [
    "import numpy as np\n",
    "import tensorflow as tf\n",
    "from tensorflow.keras.preprocessing.text import Tokenizer\n",
    "from tensorflow.keras.preprocessing.sequence import pad_sequences\n",
    "from tensorflow.keras.models import Sequential\n",
    "from tensorflow.keras.layers import Embedding, SimpleRNN, Dense\n",
    "from datasets import load_dataset\n"
   ]
  },
  {
   "cell_type": "code",
   "execution_count": 7,
   "metadata": {},
   "outputs": [],
   "source": [
    "# 1. Load the WikiText-2 dataset\n",
    "dataset = load_dataset(\"wikitext\", \"wikitext-2-raw-v1\")\n",
    "raw_text = dataset['train']['text']\n"
   ]
  },
  {
   "cell_type": "code",
   "execution_count": 8,
   "id": "4335000e",
   "metadata": {},
   "outputs": [],
   "source": [
    "# 2. Clean and preprocess text (remove empty lines, lowercase)\n",
    "corpus = [line.lower() for line in raw_text if line.strip() != \"\"][:2000]"
   ]
  },
  {
   "cell_type": "code",
   "execution_count": 9,
   "id": "8e8810ea",
   "metadata": {},
   "outputs": [],
   "source": [
    "\n",
    "# 3. Tokenize the text\n",
    "tokenizer = Tokenizer()\n",
    "tokenizer.fit_on_texts(corpus)\n",
    "total_words = len(tokenizer.word_index) + 1"
   ]
  },
  {
   "cell_type": "code",
   "execution_count": 10,
   "id": "65e55229",
   "metadata": {},
   "outputs": [],
   "source": [
    "# 4. Create input sequences with sequence length limit\n",
    "input_sequences = []\n",
    "max_len_allowed = 20  # Keep sequences short for memory efficiency\n",
    "\n",
    "for line in corpus:\n",
    "    token_list = tokenizer.texts_to_sequences([line])[0]\n",
    "    for i in range(1, len(token_list)):\n",
    "        n_gram_seq = token_list[:i+1]\n",
    "        if len(n_gram_seq) <= max_len_allowed:\n",
    "            input_sequences.append(n_gram_seq)"
   ]
  },
  {
   "cell_type": "code",
   "execution_count": 11,
   "id": "96f89e66",
   "metadata": {},
   "outputs": [],
   "source": [
    "\n",
    "# 5. Pad sequences and split into input (X) and label (y)\n",
    "max_sequence_len = max([len(seq) for seq in input_sequences])\n",
    "input_sequences = pad_sequences(input_sequences, maxlen=max_sequence_len, padding='pre')\n",
    "\n",
    "X = input_sequences[:, :-1]\n",
    "y = input_sequences[:, -1]\n",
    "y = tf.keras.utils.to_categorical(y, num_classes=total_words)"
   ]
  },
  {
   "cell_type": "code",
   "execution_count": 12,
   "id": "f59b2ab9",
   "metadata": {},
   "outputs": [
    {
     "name": "stdout",
     "output_type": "stream",
     "text": [
      "Model: \"sequential\"\n",
      "_________________________________________________________________\n",
      " Layer (type)                Output Shape              Param #   \n",
      "=================================================================\n",
      " embedding (Embedding)       (None, 19, 64)            1027648   \n",
      "                                                                 \n",
      " simple_rnn (SimpleRNN)      (None, 100)               16500     \n",
      "                                                                 \n",
      " dense (Dense)               (None, 16057)             1621757   \n",
      "                                                                 \n",
      "=================================================================\n",
      "Total params: 2665905 (10.17 MB)\n",
      "Trainable params: 2665905 (10.17 MB)\n",
      "Non-trainable params: 0 (0.00 Byte)\n",
      "_________________________________________________________________\n"
     ]
    }
   ],
   "source": [
    "# 6. Build the RNN model\n",
    "model = Sequential()\n",
    "model.add(Embedding(input_dim=total_words, output_dim=64, input_length=max_sequence_len - 1))\n",
    "model.add(SimpleRNN(100))\n",
    "model.add(Dense(total_words, activation='softmax'))\n",
    "\n",
    "model.compile(loss='categorical_crossentropy', optimizer='adam', metrics=['accuracy'])\n",
    "model.summary()\n"
   ]
  },
  {
   "cell_type": "code",
   "execution_count": 13,
   "id": "740748ba",
   "metadata": {},
   "outputs": [
    {
     "name": "stdout",
     "output_type": "stream",
     "text": [
      "Epoch 1/50\n",
      "197/197 [==============================] - 25s 102ms/step - loss: 7.8408 - accuracy: 0.0683\n",
      "Epoch 2/50\n",
      "197/197 [==============================] - 20s 102ms/step - loss: 7.1237 - accuracy: 0.0701\n",
      "Epoch 3/50\n",
      "197/197 [==============================] - 17s 87ms/step - loss: 6.8634 - accuracy: 0.0866\n",
      "Epoch 4/50\n",
      "197/197 [==============================] - 17s 88ms/step - loss: 6.6323 - accuracy: 0.0927\n",
      "Epoch 5/50\n",
      "197/197 [==============================] - 22s 109ms/step - loss: 6.4153 - accuracy: 0.0984\n",
      "Epoch 6/50\n",
      "197/197 [==============================] - 14s 71ms/step - loss: 6.2017 - accuracy: 0.1074\n",
      "Epoch 7/50\n",
      "197/197 [==============================] - 14s 71ms/step - loss: 5.9886 - accuracy: 0.1148\n",
      "Epoch 8/50\n",
      "197/197 [==============================] - 14s 73ms/step - loss: 5.7683 - accuracy: 0.1246\n",
      "Epoch 9/50\n",
      "197/197 [==============================] - 17s 84ms/step - loss: 5.5502 - accuracy: 0.1369\n",
      "Epoch 10/50\n",
      "197/197 [==============================] - 19s 98ms/step - loss: 5.3346 - accuracy: 0.1472\n",
      "Epoch 11/50\n",
      "197/197 [==============================] - 15s 77ms/step - loss: 5.1233 - accuracy: 0.1616\n",
      "Epoch 12/50\n",
      "197/197 [==============================] - 16s 81ms/step - loss: 4.9199 - accuracy: 0.1792\n",
      "Epoch 13/50\n",
      "197/197 [==============================] - 15s 79ms/step - loss: 4.7221 - accuracy: 0.1998\n",
      "Epoch 14/50\n",
      "197/197 [==============================] - 15s 74ms/step - loss: 4.5290 - accuracy: 0.2223\n",
      "Epoch 15/50\n",
      "197/197 [==============================] - 16s 79ms/step - loss: 4.3406 - accuracy: 0.2479\n",
      "Epoch 16/50\n",
      "197/197 [==============================] - 16s 80ms/step - loss: 4.1580 - accuracy: 0.2760\n",
      "Epoch 17/50\n",
      "197/197 [==============================] - 15s 77ms/step - loss: 3.9805 - accuracy: 0.3019\n",
      "Epoch 18/50\n",
      "197/197 [==============================] - 15s 77ms/step - loss: 3.8081 - accuracy: 0.3272\n",
      "Epoch 19/50\n",
      "197/197 [==============================] - 15s 79ms/step - loss: 3.6416 - accuracy: 0.3544\n",
      "Epoch 20/50\n",
      "197/197 [==============================] - 15s 78ms/step - loss: 3.4805 - accuracy: 0.3790\n",
      "Epoch 21/50\n",
      "197/197 [==============================] - 15s 78ms/step - loss: 3.3244 - accuracy: 0.4066\n",
      "Epoch 22/50\n",
      "197/197 [==============================] - 16s 79ms/step - loss: 3.1736 - accuracy: 0.4282\n",
      "Epoch 23/50\n",
      "197/197 [==============================] - 16s 79ms/step - loss: 3.0309 - accuracy: 0.4528\n",
      "Epoch 24/50\n",
      "197/197 [==============================] - 16s 81ms/step - loss: 2.8949 - accuracy: 0.4765\n",
      "Epoch 25/50\n",
      "197/197 [==============================] - 16s 80ms/step - loss: 2.7626 - accuracy: 0.4967\n",
      "Epoch 26/50\n",
      "197/197 [==============================] - 16s 80ms/step - loss: 2.6382 - accuracy: 0.5213\n",
      "Epoch 27/50\n",
      "197/197 [==============================] - 15s 79ms/step - loss: 2.5165 - accuracy: 0.5436\n",
      "Epoch 28/50\n",
      "197/197 [==============================] - 16s 80ms/step - loss: 2.4027 - accuracy: 0.5624\n",
      "Epoch 29/50\n",
      "197/197 [==============================] - 16s 79ms/step - loss: 2.2920 - accuracy: 0.5788\n",
      "Epoch 30/50\n",
      "197/197 [==============================] - 16s 80ms/step - loss: 2.1905 - accuracy: 0.5999\n",
      "Epoch 31/50\n",
      "197/197 [==============================] - 15s 78ms/step - loss: 2.0889 - accuracy: 0.6166\n",
      "Epoch 32/50\n",
      "197/197 [==============================] - 16s 80ms/step - loss: 1.9934 - accuracy: 0.6352\n",
      "Epoch 33/50\n",
      "197/197 [==============================] - 16s 79ms/step - loss: 1.9058 - accuracy: 0.6502\n",
      "Epoch 34/50\n",
      "197/197 [==============================] - 16s 80ms/step - loss: 1.8151 - accuracy: 0.6682\n",
      "Epoch 35/50\n",
      "197/197 [==============================] - 15s 77ms/step - loss: 1.7370 - accuracy: 0.6838\n",
      "Epoch 36/50\n",
      "197/197 [==============================] - 16s 80ms/step - loss: 1.6567 - accuracy: 0.6982\n",
      "Epoch 37/50\n",
      "197/197 [==============================] - 16s 81ms/step - loss: 1.5827 - accuracy: 0.7121\n",
      "Epoch 38/50\n",
      "197/197 [==============================] - 16s 81ms/step - loss: 1.5110 - accuracy: 0.7274\n",
      "Epoch 39/50\n",
      "197/197 [==============================] - 15s 78ms/step - loss: 1.4433 - accuracy: 0.7421\n",
      "Epoch 40/50\n",
      "197/197 [==============================] - 15s 79ms/step - loss: 1.3827 - accuracy: 0.7517\n",
      "Epoch 41/50\n",
      "197/197 [==============================] - 15s 78ms/step - loss: 1.3188 - accuracy: 0.7628\n",
      "Epoch 42/50\n",
      "197/197 [==============================] - 16s 81ms/step - loss: 1.2618 - accuracy: 0.7758\n",
      "Epoch 43/50\n",
      "197/197 [==============================] - 16s 81ms/step - loss: 1.2124 - accuracy: 0.7839\n",
      "Epoch 44/50\n",
      "197/197 [==============================] - 16s 81ms/step - loss: 1.1600 - accuracy: 0.7951\n",
      "Epoch 45/50\n",
      "197/197 [==============================] - 16s 79ms/step - loss: 1.1086 - accuracy: 0.8046\n",
      "Epoch 46/50\n",
      "197/197 [==============================] - 15s 77ms/step - loss: 1.0607 - accuracy: 0.8138\n",
      "Epoch 47/50\n",
      "197/197 [==============================] - 15s 78ms/step - loss: 1.0187 - accuracy: 0.8218\n",
      "Epoch 48/50\n",
      "197/197 [==============================] - 15s 78ms/step - loss: 0.9781 - accuracy: 0.8281\n",
      "Epoch 49/50\n",
      "197/197 [==============================] - 16s 81ms/step - loss: 0.9397 - accuracy: 0.8361\n",
      "Epoch 50/50\n",
      "197/197 [==============================] - 16s 80ms/step - loss: 0.8990 - accuracy: 0.8437\n"
     ]
    },
    {
     "data": {
      "text/plain": [
       "<keras.src.callbacks.History at 0x7fe6e8494430>"
      ]
     },
     "execution_count": 13,
     "metadata": {},
     "output_type": "execute_result"
    }
   ],
   "source": [
    "\n",
    "# 7. Train the model\n",
    "model.fit(X, y, epochs=50, batch_size=128, verbose=1)"
   ]
  },
  {
   "cell_type": "code",
   "execution_count": null,
   "id": "6e371218",
   "metadata": {},
   "outputs": [],
   "source": [
    "def predict_next_word(seed_text, next_words=1):\n",
    "    for _ in range(next_words):\n",
    "        token_list = tokenizer.texts_to_sequences([seed_text])[0]\n",
    "        token_list = pad_sequences([token_list], maxlen=max_sequence_len - 1, padding='pre')\n",
    "def predict_next_word(seed_text, next_words=1):\n",
    "    for _ in range(next_words):\n",
    "        token_list = tokenizer.texts_to_sequences([seed_text])[0]\n",
    "        token_list = pad_sequences([token_list], maxlen=max_sequence_len - 1, padding='pre')\n",
    "        predicted_probs = model.predict(token_list, verbose=0)\n",
    "        predicted_index = np.argmax(predicted_probs)\n",
    "        predicted_word = tokenizer.index_word.get(predicted_index, \"\")\n",
    "        seed_text += \" \" + predicted_word\n",
    "    return seed_text\n"
   ]
  },
  {
   "cell_type": "code",
   "execution_count": 23,
   "id": "bc8ddafd",
   "metadata": {},
   "outputs": [
    {
     "name": "stdout",
     "output_type": "stream",
     "text": [
      "Devan is early\n",
      "Growing season\n"
     ]
    }
   ],
   "source": [
    "print(predict_next_word(\"Devan is\", 1))\n",
    "print(predict_next_word(\"Growing\", 1))\n"
   ]
  }
 ],
 "metadata": {
  "kernelspec": {
   "display_name": "Python 3",
   "language": "python",
   "name": "python3"
  },
  "language_info": {
   "codemirror_mode": {
    "name": "ipython",
    "version": 3
   },
   "file_extension": ".py",
   "mimetype": "text/x-python",
   "name": "python",
   "nbconvert_exporter": "python",
   "pygments_lexer": "ipython3",
   "version": "3.8.10"
  }
 },
 "nbformat": 4,
 "nbformat_minor": 5
}
